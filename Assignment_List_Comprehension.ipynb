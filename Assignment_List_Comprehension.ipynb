{
 "cells": [
  {
   "cell_type": "markdown",
   "id": "f848278e-7ba2-4bea-b634-425d0c4985cf",
   "metadata": {},
   "source": [
    "# Assignment on List Comprehensions (Week 5 Day 4)"
   ]
  },
  {
   "cell_type": "markdown",
   "id": "2ee61121-1516-4432-a2e7-744b95b676e1",
   "metadata": {},
   "source": [
    "## Q1. Given a list of integers, [1, 2, 3, 4, 5], write a list comprehension that returns a new list where each number is squared, cubed and another one as power of itself."
   ]
  },
  {
   "cell_type": "code",
   "execution_count": 1,
   "id": "d753dfe4-4e51-4b47-b02a-fd4df1e8a558",
   "metadata": {},
   "outputs": [
    {
     "data": {
      "text/plain": [
       "[[1, 1, 1], [4, 8, 4], [27, 27, 27], [256, 64, 256], [3125, 125, 3125]]"
      ]
     },
     "execution_count": 1,
     "metadata": {},
     "output_type": "execute_result"
    }
   ],
   "source": [
    "Inter_List = [1,2,3,4,5]\n",
    "\n",
    "[[i**i, i**3, i**i] for i in Inter_List]"
   ]
  },
  {
   "cell_type": "markdown",
   "id": "4c0aa4fa-5420-4aed-a927-d9e364209cb3",
   "metadata": {},
   "source": [
    "## 2a Write a list comprehension that filters out only the even numbers from the list [10, 15, 20, 25, 30, 35]."
   ]
  },
  {
   "cell_type": "code",
   "execution_count": 29,
   "id": "d4c5f625-0087-4875-8227-dfc878c5f62d",
   "metadata": {},
   "outputs": [
    {
     "data": {
      "text/plain": [
       "[10, 20, 30]"
      ]
     },
     "execution_count": 29,
     "metadata": {},
     "output_type": "execute_result"
    }
   ],
   "source": [
    "is_even = [10, 15, 20, 25, 30, 35]\n",
    "[i for i in is_even if i%2==0]"
   ]
  },
  {
   "cell_type": "markdown",
   "id": "ece6d39b-3d53-41c4-9bb9-0d8c7ae964db",
   "metadata": {},
   "source": [
    "## 2b Write a list comprehenion/for loop that retuns every 4th vlaue in  range of 1 to 100"
   ]
  },
  {
   "cell_type": "code",
   "execution_count": 28,
   "id": "415949b4-dec2-4046-9140-a3fd23f0cd42",
   "metadata": {},
   "outputs": [
    {
     "data": {
      "text/plain": [
       "[1,\n",
       " 5,\n",
       " 9,\n",
       " 13,\n",
       " 17,\n",
       " 21,\n",
       " 25,\n",
       " 29,\n",
       " 33,\n",
       " 37,\n",
       " 41,\n",
       " 45,\n",
       " 49,\n",
       " 53,\n",
       " 57,\n",
       " 61,\n",
       " 65,\n",
       " 69,\n",
       " 73,\n",
       " 77,\n",
       " 81,\n",
       " 85,\n",
       " 89,\n",
       " 93,\n",
       " 97]"
      ]
     },
     "execution_count": 28,
     "metadata": {},
     "output_type": "execute_result"
    }
   ],
   "source": [
    "[i for i in range(1,100,4)]"
   ]
  },
  {
   "cell_type": "markdown",
   "id": "db08c9bd-4d99-4b10-ac2d-dda720f66ad3",
   "metadata": {},
   "source": [
    "## 3a. You have a list of strings, [\"apple\", \"banana\", \"cherry\"]. Write a list comprehension that converts each string to uppercase."
   ]
  },
  {
   "cell_type": "code",
   "execution_count": 4,
   "id": "b0003dd3-f201-4e75-be2d-8d3c2cbc7f83",
   "metadata": {},
   "outputs": [
    {
     "data": {
      "text/plain": [
       "['APPLE', 'BANANA', 'CHERRY']"
      ]
     },
     "execution_count": 4,
     "metadata": {},
     "output_type": "execute_result"
    }
   ],
   "source": [
    "fruits = [\"apple\", \"banana\", \"cherry\"]\n",
    "[i.upper() for i in fruits]"
   ]
  },
  {
   "cell_type": "markdown",
   "id": "29cdfabf-15fb-4581-b557-221edea317e5",
   "metadata": {},
   "source": [
    "## 3b. Now create a dictionary comprehension  to output the fruit as key and length of each character in the fruit as value"
   ]
  },
  {
   "cell_type": "code",
   "execution_count": 27,
   "id": "8f405de9-f0dd-45f5-803e-fd2f1ff8489b",
   "metadata": {},
   "outputs": [
    {
     "data": {
      "text/plain": [
       "{'apple': 5, 'banana': 6, 'cherry': 6}"
      ]
     },
     "execution_count": 27,
     "metadata": {},
     "output_type": "execute_result"
    }
   ],
   "source": [
    "{k:v for k, v in zip(fruits, [len(i) for i in fruits])}"
   ]
  },
  {
   "cell_type": "markdown",
   "id": "860bbd53-9de8-472b-a654-126e28da9498",
   "metadata": {},
   "source": [
    "## 4. Given a list of numbers [1, 2, 3, 4, 5, 6], write a single list comprehension that returns: \n",
    "    \"even\" for each even number, and\n",
    "    \"odd\" for each odd number."
   ]
  },
  {
   "cell_type": "code",
   "execution_count": 6,
   "id": "7f15133b-fbf3-4580-8409-8a134d30c22f",
   "metadata": {},
   "outputs": [
    {
     "data": {
      "text/plain": [
       "['Is Even:', [2, 4, 6], 'Is Odd:', [1, 3, 5]]"
      ]
     },
     "execution_count": 6,
     "metadata": {},
     "output_type": "execute_result"
    }
   ],
   "source": [
    "List_no = [1, 2, 3, 4, 5, 6]\n",
    "\n",
    "['Is Even:',([n for n in List_no if n%2 == 0]), 'Is Odd:',([n for n in List_no if n%2 != 0])]"
   ]
  },
  {
   "cell_type": "markdown",
   "id": "5bb2f405-abb3-4dce-b07f-e72ee05542fb",
   "metadata": {},
   "source": [
    "## 5a Suppose you have a list of words like [\"John\", \"Jane\", \"Erick\", \"Benard\", \"Comprehension\"]. Write a list comprehension that extracts the first letter from each word."
   ]
  },
  {
   "cell_type": "code",
   "execution_count": 30,
   "id": "78413cb6-b24e-425d-9e74-cfc4415a4c35",
   "metadata": {},
   "outputs": [
    {
     "data": {
      "text/plain": [
       "['J', 'J', 'E', 'B', 'C']"
      ]
     },
     "execution_count": 30,
     "metadata": {},
     "output_type": "execute_result"
    }
   ],
   "source": [
    "word_names = [\"John\", \"Jane\", \"Erick\", \"Benard\", \"Comprehension\"]\n",
    "\n",
    "[(i[0]) for i in word_names]"
   ]
  },
  {
   "cell_type": "markdown",
   "id": "f13b8be0-ef79-4a42-b229-1487381b6f37",
   "metadata": {},
   "source": [
    "## 5b. Save the outputs as dictionary using dictionary comprehension to show the name of each individual as key and first charatcer as value"
   ]
  },
  {
   "cell_type": "code",
   "execution_count": 8,
   "id": "a0248fd1-19b4-45d6-b2d4-545201e7a197",
   "metadata": {},
   "outputs": [
    {
     "data": {
      "text/plain": [
       "{'John': 'J', 'Jane': 'J', 'Erick': 'E', 'Benard': 'B', 'Comprehension': 'C'}"
      ]
     },
     "execution_count": 8,
     "metadata": {},
     "output_type": "execute_result"
    }
   ],
   "source": [
    "{k:v for k, v in zip(word_names,[(i[0][0]) for i in word_names])}"
   ]
  },
  {
   "cell_type": "markdown",
   "id": "f2e99605-8cbb-4a5e-9b83-576f8e75b213",
   "metadata": {},
   "source": [
    "## 5c. Convert the outputs of number 1 to 5b as functions and test them"
   ]
  },
  {
   "cell_type": "code",
   "execution_count": 32,
   "id": "c11ad646-12c6-4183-a947-0b176fd90f87",
   "metadata": {},
   "outputs": [
    {
     "name": "stdout",
     "output_type": "stream",
     "text": [
      "[Square, Cube, raised by itself]: [[1, 1, 1], [4, 8, 4], [27, 27, 27], [256, 64, 256], [3125, 125, 3125]]\n",
      "Even Numbers: [10, 20, 30]\n",
      "4th Value: [1, 5, 9, 13, 17, 21, 25, 29, 33, 37, 41, 45, 49, 53, 57, 61, 65, 69, 73, 77, 81, 85, 89, 93, 97]\n",
      "Upper_Case: ['APPLE', 'BANANA', 'CHERRY']\n",
      "Dictionary Comprehension: {'apple': 0, 'banana': 1, 'cherry': 2}\n",
      "Classify odd & Even: ['Is Even:', [2, 4, 6], 'Is Odd:', [1, 3, 5]]\n",
      "First Letter of names: ['J', 'J', 'E', 'B', 'C']\n",
      "Dictionary Comprehension for given names: {'John': 'J', 'Jane': 'J', 'Erick': 'E', 'Benard': 'B', 'Comprehension': 'C'}\n"
     ]
    }
   ],
   "source": [
    "# No.1\n",
    "def math_int (Data):\n",
    "    print('[Square, Cube, raised by itself]:',[[i**i, i**3, i**i] for i in Data])\n",
    "math_int(Inter_List)\n",
    "\n",
    "# No.2a\n",
    "def int_conv (int_data):\n",
    "    print('Even Numbers:',[i for i in int_data if i%2==0])\n",
    "int_conv(is_even)\n",
    "\n",
    "# No.2b\n",
    "def fouth_value (given_data):\n",
    "    print('4th Value:',[i for i in given_data])\n",
    "fouth_value(range_data)\n",
    "\n",
    "# No.3a\n",
    "def changetoupper (fruits_data):\n",
    "    print('Upper_Case:', [i.upper() for i in fruits])\n",
    "changetoupper(fruits)\n",
    "\n",
    "# No.3b\n",
    "def dic_compre (target_data_comp):\n",
    "    print('Dictionary Comprehension:',{k:v for k, v in zip(target_data_comp,[i for i in range(len(target_data_comp))])})\n",
    "dic_compre(fruits)\n",
    "\n",
    "# No.4\n",
    "def odd_even (list_data):\n",
    "    print('Classify odd & Even:', ['Is Even:',([n for n in list_data if n%2 == 0]), 'Is Odd:',([n for n in list_data if n%2 != 0])])\n",
    "odd_even(List_no)\n",
    "\n",
    "# No.5a\n",
    "def first_letter (target_names):\n",
    "    print('First Letter of names:',[(i[0]) for i in target_names])\n",
    "first_letter(word_names)\n",
    "\n",
    "# No.5b\n",
    "def dic_compre_tar (data_comp_ind):\n",
    "    print('Dictionary Comprehension for given names:',{k:v for k, v in zip(data_comp_ind,[(i[0]) for i in data_comp_ind])})\n",
    "dic_compre_tar(word_names)"
   ]
  },
  {
   "cell_type": "markdown",
   "id": "dcfd424f-6551-4bc5-86d4-fec7dc79af67",
   "metadata": {},
   "source": [
    "## 6. Using a lists and dictionary of your choice, create  a dictionary containing 4 lists (full name, age, wight, location, gender) of 10 students."
   ]
  },
  {
   "cell_type": "code",
   "execution_count": 10,
   "id": "c959202a-bc52-46cd-8ad8-eba3e5a0c4c4",
   "metadata": {},
   "outputs": [
    {
     "name": "stdout",
     "output_type": "stream",
     "text": [
      "{'Full_Name': ['James Charles', 'Michael Onkoba', 'Robert Ratili', 'John Kibiru', 'David Orior', 'William Matthew', 'Mary Oganda', 'Patricia Daniel', 'Jennifer Santos', 'Linda Maina'], 'Age': [26, 25, 43, 23, 31, 24, 24, 23, 28, 25], 'Weight': [76, 80, 81, 77, 80, 69, 69, 80, 76, 81], 'location': ['Nairobi', 'Mombasa', 'Nakuru', 'Kisumu', 'Kisii', 'Nyeri', 'Kakamega', 'Malindi', 'Kitui', 'Turkana'], 'gender': ['Male', 'Male', 'Male', 'Male', 'Male', 'Male', 'Female', 'Female', 'Female', 'Female']}\n"
     ]
    }
   ],
   "source": [
    "Students = {\n",
    "    'Full_Name' : ['James Charles', 'Michael Onkoba', 'Robert Ratili', 'John Kibiru', 'David Orior', 'William Matthew', 'Mary Oganda', 'Patricia Daniel', 'Jennifer Santos', 'Linda Maina'],\n",
    "    'Age' : [26, 25, 43, 23, 31, 24, 24, 23, 28, 25],\n",
    "    'Weight' : [76, 80, 81, 77, 80, 69, 69, 80, 76, 81],\n",
    "    'location' : ['Nairobi', 'Mombasa', 'Nakuru', 'Kisumu', 'Kisii', 'Nyeri', 'Kakamega', 'Malindi', 'Kitui', 'Turkana'],\n",
    "    'gender' : ['Male', 'Male', 'Male', 'Male', 'Male', 'Male', 'Female', 'Female', 'Female', 'Female']\n",
    "}\n",
    "print(Students)"
   ]
  },
  {
   "cell_type": "markdown",
   "id": "9a0fb0db-9891-4328-9144-1c4ce129d7c3",
   "metadata": {},
   "source": [
    "## 7. Convert the output of number six above into pandas dataframes"
   ]
  },
  {
   "cell_type": "code",
   "execution_count": 11,
   "id": "edcedc2a-b325-4d65-bd40-da9d120fe1e2",
   "metadata": {},
   "outputs": [
    {
     "data": {
      "text/html": [
       "<div>\n",
       "<style scoped>\n",
       "    .dataframe tbody tr th:only-of-type {\n",
       "        vertical-align: middle;\n",
       "    }\n",
       "\n",
       "    .dataframe tbody tr th {\n",
       "        vertical-align: top;\n",
       "    }\n",
       "\n",
       "    .dataframe thead th {\n",
       "        text-align: right;\n",
       "    }\n",
       "</style>\n",
       "<table border=\"1\" class=\"dataframe\">\n",
       "  <thead>\n",
       "    <tr style=\"text-align: right;\">\n",
       "      <th></th>\n",
       "      <th>Full_Name</th>\n",
       "      <th>Age</th>\n",
       "      <th>Weight</th>\n",
       "      <th>location</th>\n",
       "      <th>gender</th>\n",
       "    </tr>\n",
       "  </thead>\n",
       "  <tbody>\n",
       "    <tr>\n",
       "      <th>0</th>\n",
       "      <td>James Charles</td>\n",
       "      <td>26</td>\n",
       "      <td>76</td>\n",
       "      <td>Nairobi</td>\n",
       "      <td>Male</td>\n",
       "    </tr>\n",
       "    <tr>\n",
       "      <th>1</th>\n",
       "      <td>Michael Onkoba</td>\n",
       "      <td>25</td>\n",
       "      <td>80</td>\n",
       "      <td>Mombasa</td>\n",
       "      <td>Male</td>\n",
       "    </tr>\n",
       "    <tr>\n",
       "      <th>2</th>\n",
       "      <td>Robert Ratili</td>\n",
       "      <td>43</td>\n",
       "      <td>81</td>\n",
       "      <td>Nakuru</td>\n",
       "      <td>Male</td>\n",
       "    </tr>\n",
       "    <tr>\n",
       "      <th>3</th>\n",
       "      <td>John Kibiru</td>\n",
       "      <td>23</td>\n",
       "      <td>77</td>\n",
       "      <td>Kisumu</td>\n",
       "      <td>Male</td>\n",
       "    </tr>\n",
       "    <tr>\n",
       "      <th>4</th>\n",
       "      <td>David Orior</td>\n",
       "      <td>31</td>\n",
       "      <td>80</td>\n",
       "      <td>Kisii</td>\n",
       "      <td>Male</td>\n",
       "    </tr>\n",
       "    <tr>\n",
       "      <th>5</th>\n",
       "      <td>William Matthew</td>\n",
       "      <td>24</td>\n",
       "      <td>69</td>\n",
       "      <td>Nyeri</td>\n",
       "      <td>Male</td>\n",
       "    </tr>\n",
       "    <tr>\n",
       "      <th>6</th>\n",
       "      <td>Mary Oganda</td>\n",
       "      <td>24</td>\n",
       "      <td>69</td>\n",
       "      <td>Kakamega</td>\n",
       "      <td>Female</td>\n",
       "    </tr>\n",
       "    <tr>\n",
       "      <th>7</th>\n",
       "      <td>Patricia Daniel</td>\n",
       "      <td>23</td>\n",
       "      <td>80</td>\n",
       "      <td>Malindi</td>\n",
       "      <td>Female</td>\n",
       "    </tr>\n",
       "    <tr>\n",
       "      <th>8</th>\n",
       "      <td>Jennifer Santos</td>\n",
       "      <td>28</td>\n",
       "      <td>76</td>\n",
       "      <td>Kitui</td>\n",
       "      <td>Female</td>\n",
       "    </tr>\n",
       "    <tr>\n",
       "      <th>9</th>\n",
       "      <td>Linda Maina</td>\n",
       "      <td>25</td>\n",
       "      <td>81</td>\n",
       "      <td>Turkana</td>\n",
       "      <td>Female</td>\n",
       "    </tr>\n",
       "  </tbody>\n",
       "</table>\n",
       "</div>"
      ],
      "text/plain": [
       "         Full_Name  Age  Weight  location  gender\n",
       "0    James Charles   26      76   Nairobi    Male\n",
       "1   Michael Onkoba   25      80   Mombasa    Male\n",
       "2    Robert Ratili   43      81    Nakuru    Male\n",
       "3      John Kibiru   23      77    Kisumu    Male\n",
       "4      David Orior   31      80     Kisii    Male\n",
       "5  William Matthew   24      69     Nyeri    Male\n",
       "6      Mary Oganda   24      69  Kakamega  Female\n",
       "7  Patricia Daniel   23      80   Malindi  Female\n",
       "8  Jennifer Santos   28      76     Kitui  Female\n",
       "9      Linda Maina   25      81   Turkana  Female"
      ]
     },
     "execution_count": 11,
     "metadata": {},
     "output_type": "execute_result"
    }
   ],
   "source": [
    "import pandas as pd\n",
    "import numpy as np\n",
    "df = pd.DataFrame(Students)\n",
    "df"
   ]
  },
  {
   "cell_type": "markdown",
   "id": "cb82ec8f-bb8c-493e-bcd4-3c692e891c3e",
   "metadata": {},
   "source": [
    "## 8. Now create a new dictionary of key as name of students in number six and value as gender of students using dictionary comprehensions"
   ]
  },
  {
   "cell_type": "code",
   "execution_count": 21,
   "id": "c29b2cf0-0d20-4d6a-b1e3-449e8a65b952",
   "metadata": {},
   "outputs": [
    {
     "data": {
      "text/plain": [
       "{'James Charles': 26,\n",
       " 'Michael Onkoba': 25,\n",
       " 'Robert Ratili': 43,\n",
       " 'John Kibiru': 23,\n",
       " 'David Orior': 31,\n",
       " 'William Matthew': 24,\n",
       " 'Mary Oganda': 24,\n",
       " 'Patricia Daniel': 23,\n",
       " 'Jennifer Santos': 28,\n",
       " 'Linda Maina': 25}"
      ]
     },
     "execution_count": 21,
     "metadata": {},
     "output_type": "execute_result"
    }
   ],
   "source": [
    "{k:v for k,v in zip(Students['Full_Name'],Students['Age'])}"
   ]
  },
  {
   "cell_type": "markdown",
   "id": "58bbd8b3-d5f5-45e7-ad2d-b254a2fa5290",
   "metadata": {},
   "source": [
    "## 9. Create a new repository on github, make it private and add me (github name: Lunalo) as external collaborator"
   ]
  },
  {
   "cell_type": "markdown",
   "id": "1a9b53e0-2948-411a-b64f-ea6e1e670b81",
   "metadata": {},
   "source": [
    "## 10. Push your work above into this newly created repository on github"
   ]
  }
 ],
 "metadata": {
  "kernelspec": {
   "display_name": "Python 3 (ipykernel)",
   "language": "python",
   "name": "python3"
  },
  "language_info": {
   "codemirror_mode": {
    "name": "ipython",
    "version": 3
   },
   "file_extension": ".py",
   "mimetype": "text/x-python",
   "name": "python",
   "nbconvert_exporter": "python",
   "pygments_lexer": "ipython3",
   "version": "3.12.7"
  }
 },
 "nbformat": 4,
 "nbformat_minor": 5
}
